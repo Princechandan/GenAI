{
  "cells": [
    {
      "cell_type": "markdown",
      "metadata": {
        "id": "view-in-github",
        "colab_type": "text"
      },
      "source": [
        "<a href=\"https://colab.research.google.com/github/Princechandan/GenAI/blob/main/Modifications_On_image_video_animation_generation.ipynb\" target=\"_parent\"><img src=\"https://colab.research.google.com/assets/colab-badge.svg\" alt=\"Open In Colab\"/></a>"
      ]
    },
    {
      "cell_type": "markdown",
      "source": [
        "# **Title of the Project** : AI Content Generation based on replicate API\n",
        "\n",
        "\n",
        "\n",
        "\n",
        "\n"
      ],
      "metadata": {
        "id": "M49lstKso4R4"
      }
    },
    {
      "cell_type": "markdown",
      "source": [
        "# Project Scope :\n",
        "The project aims to conduct comprehensive data visualization and predictive analysis using a diabetes database to derive insights into the factors influencing diabetes onset. The scope encompasses data preprocessing, exploratory data analysis (EDA), predictive modeling, and the creation of interactive visualizations for effective interpretation and decision-making."
      ],
      "metadata": {
        "id": "ssJFs-pD6jnp"
      }
    },
    {
      "cell_type": "markdown",
      "source": [
        "* Prince Chandan - 4350304\n",
        "\n",
        "\n"
      ],
      "metadata": {
        "id": "-ipdHktp9yIQ"
      }
    },
    {
      "cell_type": "markdown",
      "source": [
        "# Brief Discription :\n",
        "\n",
        "- Building on the work of the Replicate project, this endeavor seeks to establish an effective AI system for generating images and GIFs. Its primary goal is to improve creative content development via the use of sophisticated algorithms and Google Colab. A flexible and intuitive tool for the production of a wide range of visual material is the intended outcome of this project, which encompasses algorithmic development, user customization, and assessment.\n",
        "\n",
        "\n",
        "\n"
      ],
      "metadata": {
        "id": "XidgDIqj7NDd"
      }
    },
    {
      "cell_type": "markdown",
      "source": [
        "# Objectives:\n",
        "\n",
        "Develop a cutting-edge AI platform inspired by Replicate, integrating advanced generative algorithms. This platform prioritizes user-friendly customization, allowing seamless adaptation to diverse preferences. Implement a robust evaluation framework to assess algorithm performance systematically. Provide versatile content creation tools, enhancing the digital media creation process and offering flexibility for original content generation. By optimizing user experiences, this platform aims to revolutionize digital content creation. Explore its potential in multimedia production and artistic expression to unlock innovative avenues for users to unleash their creativity. Through this initiative, seek to elevate and streamline the process of generating digital media, making it more accessible, efficient, and engaging for creators across various domains.\n",
        "\n",
        "\n",
        "\n",
        "\n",
        "\n",
        "\n",
        "\n"
      ],
      "metadata": {
        "id": "LIMZbAotNgUT"
      }
    },
    {
      "cell_type": "markdown",
      "source": [
        "# Outcomes:\n",
        "\n",
        "* Creating a cutting-edge artificial intelligence platform that is modeled around Replicate: Advanced generative algorithms will be included into this platform. These algorithms will allow for the creation of a broad range of creative material, such as films, GIFs, and photographs.\n",
        "\n",
        "* Customization that is user-friendly: The platform will be created with user customization in mind, so that users will be able to quickly customize the AI algorithms to their own requirements and preferences.\n",
        "\n",
        "* Robust evaluation framework: In order to evaluate the effectiveness of the artificial intelligence algorithms and make certain that they are successfully providing high-quality outputs, a robust evaluation framework will be put into place.\n",
        "\n",
        "* Content production tools that are versatile: The platform will provide a wide range of content creation tools, which will make it simple for users to generate digital material that is both unique and interesting.\n",
        "\n",
        "* The platform will deliver a user-friendly experience that will make it simple for users to generate digital material. This will result in an improved user experience.\n",
        "\n",
        "* The platform will have a broad variety of possible applications in the fields of creative expression and multimedia production. These applications will include the creation of multimedia and artistic expression.\n",
        "\n",
        "* Create digital material in a manner that has never been done before: The platform has the potential to completely transform the way digital content is generated.\n",
        "\n",
        "* Increased accessibility, efficiency, and engagement: The platform will make it simpler, more efficient, and more engaging for creators to develop digital media. It will also enable creators to generate more content.\n",
        "\n",
        "\n",
        "\n"
      ],
      "metadata": {
        "id": "ouFrlqNB6ax4"
      }
    },
    {
      "cell_type": "markdown",
      "source": [
        "# Modification /New specification Cell\n",
        "* During the course of the project, an intuitive user interface will be included to facilitate smooth navigation and interaction, hence fostering an experience that is user-friendly. The incorporation of methods for adaptive learning will make it possible for the model to develop and improve its creative outputs over the course of time.\n",
        "\n",
        "* In addition, the application will investigate the possibility of using cloud-based services in order to enhance accessibility and scalability. With the introduction of real-time collaboration capabilities and an enlarged library of pre-trained models, users will have access to a wider range of creative possibilities, and the process of content development will be simplified within the context of Image and GIF Generative Automation.\n",
        "\n",
        "\n",
        "## Impact:\n",
        "* Enhanced Creativity: Empowering users to effortlessly create diverse and original content tailored to their preferences fuels creativity and innovation in digital media production.\n",
        "\n",
        "* Streamlined Creation Process: By providing versatile tools and a seamless interface, the platform simplifies and accelerates the content creation workflow, saving time and effort for creators.\n",
        "\n",
        "* Accessible Innovation: Democratizing advanced generative algorithms enables a broader range of individuals, including artists, designers, and multimedia producers, to leverage cutting-edge technology in their work.\n",
        "\n",
        "* Artistic Exploration: Facilitating exploration and experimentation in artistic expression expands the boundaries of what's possible in multimedia artistry, fostering new forms of creative expression.\n",
        "\n",
        "* Industry Applications: In multimedia production, the platform's capabilities can revolutionize content creation pipelines, enhancing productivity and quality across various sectors like entertainment, advertising, and design.\n",
        "\n",
        "* Technological Advancements: Continual research and development in generative algorithms and user interface design fuel technological advancements, potentially influencing and improving other AI-driven systems and applications.\n"
      ],
      "metadata": {
        "id": "1FQxZRo5-NXM"
      }
    },
    {
      "cell_type": "markdown",
      "source": [],
      "metadata": {
        "id": "45sfrfaK-cPp"
      }
    },
    {
      "cell_type": "markdown",
      "source": [
        "# Criteria Specific Cell\n",
        "\n",
        "Relevance in Data Visualization for Diabetes Dataset:\n",
        "\n",
        "* Data Consistency: Relevance of generated content to input data and user preferences.\n",
        "* Adaptability: Ability to produce diverse and contextually relevant images and GIFs aligned with user specifications.\n",
        "* User Interaction: Relevance of user interactions and customization features in guiding content generation.\n",
        "\n",
        "\n",
        "Innovation:\n",
        "\n",
        "* Novelty refers to the introduction of new and unique elements or approaches in generative artificial intelligence for the creating of images and GIFs.\n",
        "\n",
        "* Encouragement and assistance of the development of unique and original material are both aspects of creativity.\n",
        "\n",
        "* The possibility of development, adaptation, and ongoing enhancement throughout the course of time is referred to as future potential.\n",
        "\n",
        "\n",
        "Technical Proficiency:\n",
        "\n",
        "* Model Performance: Accuracy, diversity, and realism of generated images and GIFs.\n",
        "* Computational Efficiency: Optimization in resource utilization for faster generation without compromising quality.\n",
        "* Adherence to Best Practices: Utilization of state-of-the-art algorithms and techniques, ensuring robustness and reliability.\n"
      ],
      "metadata": {
        "id": "LZX1oiB09M9C"
      }
    },
    {
      "cell_type": "markdown",
      "source": [
        "##1.Integrate Replicate library seamlessly for effortless project implementation and functionality.\n"
      ],
      "metadata": {
        "id": "03xL0Alon2h6"
      }
    },
    {
      "cell_type": "code",
      "execution_count": null,
      "metadata": {
        "colab": {
          "base_uri": "https://localhost:8080/"
        },
        "id": "K-f4rzIDbk8n",
        "outputId": "92b5d571-ed98-4034-917d-e1d5cb6b9e3d"
      },
      "outputs": [
        {
          "output_type": "stream",
          "name": "stdout",
          "text": [
            "Collecting replicate\n",
            "  Downloading replicate-0.21.1-py3-none-any.whl (35 kB)\n",
            "Collecting httpx<1,>=0.21.0 (from replicate)\n",
            "  Downloading httpx-0.25.2-py3-none-any.whl (74 kB)\n",
            "\u001b[2K     \u001b[90m━━━━━━━━━━━━━━━━━━━━━━━━━━━━━━━━━━━━━━━━\u001b[0m \u001b[32m75.0/75.0 kB\u001b[0m \u001b[31m1.8 MB/s\u001b[0m eta \u001b[36m0:00:00\u001b[0m\n",
            "\u001b[?25hRequirement already satisfied: packaging in /usr/local/lib/python3.10/dist-packages (from replicate) (23.2)\n",
            "Requirement already satisfied: pydantic>1 in /usr/local/lib/python3.10/dist-packages (from replicate) (1.10.13)\n",
            "Requirement already satisfied: typing-extensions>=4.5.0 in /usr/local/lib/python3.10/dist-packages (from replicate) (4.5.0)\n",
            "Requirement already satisfied: anyio in /usr/local/lib/python3.10/dist-packages (from httpx<1,>=0.21.0->replicate) (3.7.1)\n",
            "Requirement already satisfied: certifi in /usr/local/lib/python3.10/dist-packages (from httpx<1,>=0.21.0->replicate) (2023.11.17)\n",
            "Collecting httpcore==1.* (from httpx<1,>=0.21.0->replicate)\n",
            "  Downloading httpcore-1.0.2-py3-none-any.whl (76 kB)\n",
            "\u001b[2K     \u001b[90m━━━━━━━━━━━━━━━━━━━━━━━━━━━━━━━━━━━━━━━━\u001b[0m \u001b[32m76.9/76.9 kB\u001b[0m \u001b[31m5.9 MB/s\u001b[0m eta \u001b[36m0:00:00\u001b[0m\n",
            "\u001b[?25hRequirement already satisfied: idna in /usr/local/lib/python3.10/dist-packages (from httpx<1,>=0.21.0->replicate) (3.6)\n",
            "Requirement already satisfied: sniffio in /usr/local/lib/python3.10/dist-packages (from httpx<1,>=0.21.0->replicate) (1.3.0)\n",
            "Collecting h11<0.15,>=0.13 (from httpcore==1.*->httpx<1,>=0.21.0->replicate)\n",
            "  Downloading h11-0.14.0-py3-none-any.whl (58 kB)\n",
            "\u001b[2K     \u001b[90m━━━━━━━━━━━━━━━━━━━━━━━━━━━━━━━━━━━━━━━━\u001b[0m \u001b[32m58.3/58.3 kB\u001b[0m \u001b[31m5.9 MB/s\u001b[0m eta \u001b[36m0:00:00\u001b[0m\n",
            "\u001b[?25hRequirement already satisfied: exceptiongroup in /usr/local/lib/python3.10/dist-packages (from anyio->httpx<1,>=0.21.0->replicate) (1.2.0)\n",
            "Installing collected packages: h11, httpcore, httpx, replicate\n",
            "Successfully installed h11-0.14.0 httpcore-1.0.2 httpx-0.25.2 replicate-0.21.1\n"
          ]
        }
      ],
      "source": [
        "# @title Install Replicate\n",
        "!pip install replicate"
      ]
    },
    {
      "cell_type": "markdown",
      "source": [
        "##2. Adding advanced AI capabilities is made possible by securely assigning the Replicate API token to the environment.\n"
      ],
      "metadata": {
        "id": "sFTSpliVoGgA"
      }
    },
    {
      "cell_type": "code",
      "execution_count": null,
      "metadata": {
        "id": "cFmhr3PSf4G2"
      },
      "outputs": [],
      "source": [
        "API = \"r8_VMVI7MDpZWc4hSNDkrjtnCCMdVHFdfk2PYKHG\"\n",
        "import os\n",
        "\n",
        "os.environ[\"REPLICATE_API_TOKEN\"] = API #find it here: https://replicate.com/signin?next=/account/api-tokens\n"
      ]
    },
    {
      "cell_type": "markdown",
      "source": [
        "##3. Now we write a prompt for making a Image from AI \"Dog Holding a Sword\" using stable-diffusion model.\n",
        "\n",
        "\n",
        "\n",
        "\n",
        "\n",
        "\n",
        "\n"
      ],
      "metadata": {
        "id": "99b2KkrToOPY"
      }
    },
    {
      "cell_type": "code",
      "execution_count": null,
      "metadata": {
        "colab": {
          "base_uri": "https://localhost:8080/"
        },
        "id": "0zz83wA6cqSF",
        "outputId": "acf092b3-4d61-4af8-90d3-747f3c72c9f3"
      },
      "outputs": [
        {
          "output_type": "execute_result",
          "data": {
            "text/plain": [
              "['https://replicate.delivery/pbxt/z0knIBKko5Z5MtXF4wSJ4DVN1zTx8kORwlP98gDfCLGiBfejA/out-0.png']"
            ]
          },
          "metadata": {},
          "execution_count": 7
        }
      ],
      "source": [
        "# @title Generate Image\n",
        "prompt = \"dog holding sword\"\n",
        "import replicate\n",
        "\n",
        "output = replicate.run(\n",
        "  \"stability-ai/stable-diffusion:27b93a2413e7f36cd83da926f3656280b2931564ff050bf9575f1fdf9bcd7478\",\n",
        "  input={\"prompt\":prompt}\n",
        ")\n",
        "\n",
        "output"
      ]
    },
    {
      "cell_type": "markdown",
      "source": [
        "##4. Visual analysis utilizing a Replicate-generated picture shown in a Jupyter Notebook using IPython's picture class.\n",
        "\n",
        "To show the produced picture from the Replicate output, this code makes use of the IPython package. The visual outcome of the AI-generated material is presented using the Image class, which allows for easy showcasing and analysis inside the Jupyter Notebook environment.\n",
        "\n",
        "\n",
        "\n",
        "\n",
        "\n",
        "\n",
        "\n"
      ],
      "metadata": {
        "id": "0HNTesaHoSYo"
      }
    },
    {
      "cell_type": "code",
      "execution_count": null,
      "metadata": {
        "colab": {
          "base_uri": "https://localhost:8080/",
          "height": 533
        },
        "id": "hwXEISnemCLj",
        "outputId": "ebfa1071-23a9-4e11-a0d1-eac07585d6e3"
      },
      "outputs": [
        {
          "output_type": "execute_result",
          "data": {
            "text/html": [
              "<img src=\"https://replicate.delivery/pbxt/z0knIBKko5Z5MtXF4wSJ4DVN1zTx8kORwlP98gDfCLGiBfejA/out-0.png\"/>"
            ],
            "text/plain": [
              "<IPython.core.display.Image object>"
            ]
          },
          "metadata": {},
          "execution_count": 8
        }
      ],
      "source": [
        "\n",
        "from IPython.display import Image\n",
        "output_image = output\n",
        "Image(url=output_image[0])"
      ]
    },
    {
      "cell_type": "markdown",
      "source": [
        "##5. 5.Puts to use To build a dynamic gif animation that transitions from \"Dog Holding Sword\" to \"Dog Dropping Sword\" you will need to replicate the motion.\n",
        "To produce a gif animation, the code makes advantage of the Replicate function. The stable-diffusion-animation paradigm is used, and a ping-pong effect is utilized to transition from one prompt to another.\n",
        "\n",
        "The Final animation Reflects the dynamic progression of the prompts that have been set, resulting in an output that is visually interesting.\n",
        "\n"
      ],
      "metadata": {
        "id": "tlvYwhh7oVq_"
      }
    },
    {
      "cell_type": "code",
      "execution_count": null,
      "metadata": {
        "colab": {
          "base_uri": "https://localhost:8080/"
        },
        "id": "Misa5E4QiWNZ",
        "outputId": "65e3c046-f38c-40cd-d441-58bdf5dad440"
      },
      "outputs": [
        {
          "output_type": "execute_result",
          "data": {
            "text/plain": [
              "<generator object Prediction.output_iterator at 0x7c1cedb099a0>"
            ]
          },
          "metadata": {},
          "execution_count": 9
        }
      ],
      "source": [
        "# @title Video/gif/animation/Generation\n",
        "import replicate\n",
        "\n",
        "output = replicate.run(\n",
        "    \"andreasjansson/stable-diffusion-animation:ca1f5e306e5721e19c473e0d094e6603f0456fe759c10715fcd6c1b79242d4a5\",\n",
        "    input={\n",
        "        \"prompt_start\": \"Dog holding sword\",\n",
        "        \"prompt_end\": \"Dog throwing sword\",\n",
        "        \"output_format\": \"gif\",\n",
        "        \"gif_ping_pong\": True\n",
        "    }\n",
        ")\n",
        "\n",
        "output\n"
      ]
    },
    {
      "cell_type": "markdown",
      "source": [],
      "metadata": {
        "id": "gW0c1mMwYkru"
      }
    },
    {
      "cell_type": "markdown",
      "source": [
        "## 6. This function loops over the Repeat output, which most likely contains information on the structure of the created movie or motion.\n",
        "The code in issue iterates over the output of Replicate, which most likely contains information about animation or video. Following the link that has been supplied, you will be sent to the documentation for the Replicate API, which provides information on the output schema and describes the structure and format of the material that is created.\n",
        "\n",
        "\n",
        "\n",
        "\n",
        "\n",
        "\n"
      ],
      "metadata": {
        "id": "kNNm0SY7oY1P"
      }
    },
    {
      "cell_type": "code",
      "execution_count": null,
      "metadata": {
        "colab": {
          "base_uri": "https://localhost:8080/"
        },
        "id": "BB0LZJTyjA7Z",
        "outputId": "b2fda317-f108-4242-f1d1-ce3803182173"
      },
      "outputs": [
        {
          "output_type": "stream",
          "name": "stdout",
          "text": [
            "https://replicate.delivery/pbxt/8RZ1GtqYbH5HIlM7XFCPh2jKxuLOx2sBIspBRwpavfvPEfejA/video.gif\n"
          ]
        }
      ],
      "source": [
        "# @title generate video\n",
        "for item in output:\n",
        "     #https://replicate.com/andreasjansson/stable-diffusion-animation/versions/ca1f5e306e5721e19c473e0d094e6603f0456fe759c10715fcd6c1b79242d4a5/api#output-schema\n",
        "    print(item)"
      ]
    },
    {
      "cell_type": "markdown",
      "source": [
        "## 7. .We are making an effort to obtain the video URL from the Replicate output so that it may be seen or downloaded inside the Colab environment.\n",
        "\n",
        "The code makes an effort to get the URL of a movie in Colab by using the output of the Replicate function. On the other hand, there is a problem with the \"item[0:len(item)]\" command, since it seems to be either insufficient or improper for retrieving the URL.\n",
        "\n",
        "It is probable that the objective is to either show or download the video that was made inside the setting of the Colab.\n",
        "\n",
        "\n",
        "\n",
        "\n",
        "\n",
        "\n"
      ],
      "metadata": {
        "id": "w6fZwjtKoggI"
      }
    },
    {
      "cell_type": "code",
      "execution_count": null,
      "metadata": {
        "id": "fuPgsixhkxM4"
      },
      "outputs": [],
      "source": [
        "# @title get the video on colab\n",
        "gif_url= item[0:len(item)]"
      ]
    },
    {
      "cell_type": "markdown",
      "source": [
        " ## 8.Now It will show the generated Graphics Interchange Format on the platform and saves it too.\n",
        "By using the requests library, the code is able to obtain a GIF from the URL that was supplied. Following this, it will display the GIF in the Colab notebook, save it as \"gif_output.gif,\" and then display the saved GIF using PIL if it was successfully obtained; otherwise, it will print an error message.\n",
        "\n",
        "\n",
        "\n",
        "\n",
        "\n",
        "\n",
        "\n"
      ],
      "metadata": {
        "id": "Hmz6QKmwUmw6"
      }
    },
    {
      "cell_type": "code",
      "execution_count": null,
      "metadata": {
        "colab": {
          "base_uri": "https://localhost:8080/",
          "height": 533
        },
        "id": "6VPPvsE3km93",
        "outputId": "41669df3-f4ba-45f5-daaa-dbe8b9ccaf8e"
      },
      "outputs": [
        {
          "output_type": "display_data",
          "data": {
            "text/html": [
              "<img src=\"https://replicate.delivery/pbxt/8RZ1GtqYbH5HIlM7XFCPh2jKxuLOx2sBIspBRwpavfvPEfejA/video.gif\"/>"
            ],
            "text/plain": [
              "<IPython.core.display.Image object>"
            ]
          },
          "metadata": {}
        }
      ],
      "source": [
        "# @title Show the video\n",
        "import requests\n",
        "from IPython.display import display, Image\n",
        "from PIL import Image as PILImage\n",
        "from io import BytesIO\n",
        "response = requests.get(gif_url)\n",
        "if response.status_code == 200:\n",
        "    # Display the GIF in the notebook\n",
        "    display(Image(url=gif_url))\n",
        "\n",
        "    # Save the GIF in the Colab environment\n",
        "    with open(\"gif_output.gif\", \"wb\") as f:\n",
        "        f.write(response.content)\n",
        "\n",
        "    # Show a saved GIF using PIL\n",
        "    saved_gif = PILImage.open(\"gif_output.gif\")\n",
        "    saved_gif.show()\n",
        "else:\n",
        "    print(\"Failed to fetch GIF\")\n"
      ]
    },
    {
      "cell_type": "markdown",
      "source": [
        "# References\n",
        "* Replicate. (n.d.). https://replicate.com/signin?next=/account/api-tokens\n",
        "* Rebelo, M. (2023, May 25). How to write effective AI art prompts. Zapier. https://zapier.com/blog/ai-art-prompts/\n",
        "* Google Colab. colab.google. https://colab.google/\n",
        "\n",
        "* AI Animation Generator • AI API, workflow & prompt shared on Gooey.AI. https://gooey.ai/animation-generator/\n",
        "*Module: display — IPython 8.18.1 documentation. https://ipython.readthedocs.io/en/stable/api/generated/IPython.display.html\n",
        "\n"
      ],
      "metadata": {
        "id": "_Lj16ky3-Wip"
      }
    },
    {
      "cell_type": "markdown",
      "source": [
        "# Thank you\n",
        "\n",
        "---"
      ],
      "metadata": {
        "id": "LX6Dmm0EV0DT"
      }
    }
  ],
  "metadata": {
    "colab": {
      "provenance": [],
      "include_colab_link": true
    },
    "kernelspec": {
      "display_name": "Python 3",
      "name": "python3"
    },
    "language_info": {
      "name": "python"
    }
  },
  "nbformat": 4,
  "nbformat_minor": 0
}